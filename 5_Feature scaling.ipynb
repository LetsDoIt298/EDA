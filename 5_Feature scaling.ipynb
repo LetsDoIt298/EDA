{
 "cells": [
  {
   "cell_type": "code",
   "execution_count": 2,
   "id": "e668996e",
   "metadata": {},
   "outputs": [],
   "source": [
    "import pandas as pd\n",
    "import numpy as np\n",
    "from sklearn.preprocessing import StandardScaler, MinMaxScaler\n",
    "\n",
    "df = pd.DataFrame()\n",
    "df['Gender'] = 'Male,Male,Female,Female,Male'.split(',')\n",
    "df['Height'] = '174,189,185,195,145'.split(',')\n",
    "df['Weight'] = '''96,87,110,104,61'''.split(',')\n",
    "df['Index']  = '''4,2,4,3,3'''.split(',')\n",
    "\n",
    "df['Height'] = df['Height'].astype('int')\n",
    "df['Weight'] = df['Weight'].astype('int')\n",
    "df['Index'] = df['Index'].astype('int')\n",
    "\n",
    "# Select only numeric columns\n",
    "df_numeric = df.select_dtypes(include=[np.number])"
   ]
  },
  {
   "cell_type": "code",
   "execution_count": 3,
   "id": "fcb515b7",
   "metadata": {},
   "outputs": [
    {
     "name": "stdout",
     "output_type": "stream",
     "text": [
      "Standardized Data:\n",
      "      Height    Weight     Index\n",
      "0 -0.203601  0.256683  1.069045\n",
      "1  0.644737 -0.268350 -1.603567\n",
      "2  0.418513  1.073402  1.069045\n",
      "3  0.984072  0.723380 -0.267261\n",
      "4 -1.843722 -1.785114 -0.267261\n"
     ]
    }
   ],
   "source": [
    "# Standardization (Z-score Scaling)\n",
    "scaler_standard = StandardScaler()\n",
    "df_standardized = pd.DataFrame(scaler_standard.fit_transform(df_numeric), columns=df_numeric.columns)\n",
    "\n",
    "print(\"Standardized Data:\\n\", df_standardized.head())\n"
   ]
  },
  {
   "cell_type": "code",
   "execution_count": 4,
   "id": "108c1cba",
   "metadata": {},
   "outputs": [
    {
     "name": "stdout",
     "output_type": "stream",
     "text": [
      "\n",
      "Normalized Data:\n",
      "    Height    Weight  Index\n",
      "0    0.58  0.714286    1.0\n",
      "1    0.88  0.530612    0.0\n",
      "2    0.80  1.000000    1.0\n",
      "3    1.00  0.877551    0.5\n",
      "4    0.00  0.000000    0.5\n"
     ]
    }
   ],
   "source": [
    "# Normalization (Min-Max Scaling)\n",
    "scaler_minmax = MinMaxScaler()\n",
    "df_normalized = pd.DataFrame(scaler_minmax.fit_transform(df_numeric), columns=df_numeric.columns)\n",
    "print(\"\\nNormalized Data:\\n\", df_normalized.head())"
   ]
  },
  {
   "cell_type": "code",
   "execution_count": null,
   "id": "1a42f597",
   "metadata": {},
   "outputs": [],
   "source": []
  }
 ],
 "metadata": {
  "kernelspec": {
   "display_name": "Python 3 (ipykernel)",
   "language": "python",
   "name": "python3"
  },
  "language_info": {
   "codemirror_mode": {
    "name": "ipython",
    "version": 3
   },
   "file_extension": ".py",
   "mimetype": "text/x-python",
   "name": "python",
   "nbconvert_exporter": "python",
   "pygments_lexer": "ipython3",
   "version": "3.12.3"
  }
 },
 "nbformat": 4,
 "nbformat_minor": 5
}
