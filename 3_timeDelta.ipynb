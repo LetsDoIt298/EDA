{
 "cells": [
  {
   "cell_type": "code",
   "execution_count": 1,
   "id": "822bd78c",
   "metadata": {},
   "outputs": [
    {
     "name": "stdout",
     "output_type": "stream",
     "text": [
      "initial_date 2025-02-19 13:40:52.028919\n",
      "future_date_after_2yrs: 2027-02-19 13:40:52.028919\n",
      "future_date_after_2days: 2025-02-21 13:40:52.028919\n"
     ]
    }
   ],
   "source": [
    "from datetime import datetime, timedelta\n",
    "\n",
    "\n",
    "# Using current time\n",
    "ini_time_for_now = datetime.now()\n",
    "\n",
    "# printing initial_date\n",
    "print (\"initial_date\", str(ini_time_for_now))\n",
    "\n",
    "# Calculating future dates\n",
    "# for two years\n",
    "future_date_after_2yrs = ini_time_for_now + timedelta(days = 730)\n",
    "\n",
    "future_date_after_2days = ini_time_for_now + timedelta(days = 2)\n",
    "\n",
    "# printing calculated future_dates\n",
    "print('future_date_after_2yrs:', str(future_date_after_2yrs))\n",
    "print('future_date_after_2days:', str(future_date_after_2days))"
   ]
  },
  {
   "cell_type": "code",
   "execution_count": null,
   "id": "fa99af69",
   "metadata": {},
   "outputs": [],
   "source": []
  }
 ],
 "metadata": {
  "kernelspec": {
   "display_name": "Python 3 (ipykernel)",
   "language": "python",
   "name": "python3"
  },
  "language_info": {
   "codemirror_mode": {
    "name": "ipython",
    "version": 3
   },
   "file_extension": ".py",
   "mimetype": "text/x-python",
   "name": "python",
   "nbconvert_exporter": "python",
   "pygments_lexer": "ipython3",
   "version": "3.12.3"
  }
 },
 "nbformat": 4,
 "nbformat_minor": 5
}
